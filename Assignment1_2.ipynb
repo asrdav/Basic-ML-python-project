{
  "nbformat": 4,
  "nbformat_minor": 0,
  "metadata": {
    "kernelspec": {
      "name": "python3",
      "display_name": "Python 3"
    },
    "language_info": {
      "codemirror_mode": {
        "name": "ipython",
        "version": 3
      },
      "file_extension": ".py",
      "mimetype": "text/x-python",
      "name": "python",
      "nbconvert_exporter": "python",
      "pygments_lexer": "ipython3",
      "version": "3.7.2"
    },
    "colab": {
      "name": "Assignment1_2.ipynb",
      "version": "0.3.2",
      "provenance": [],
      "collapsed_sections": [],
      "include_colab_link": true
    },
    "accelerator": "GPU"
  },
  "cells": [
    {
      "cell_type": "markdown",
      "metadata": {
        "id": "view-in-github",
        "colab_type": "text"
      },
      "source": [
        "<a href=\"https://colab.research.google.com/github/asrdav/Basic-ML-python-project/blob/master/Assignment1_2.ipynb\" target=\"_parent\"><img src=\"https://colab.research.google.com/assets/colab-badge.svg\" alt=\"Open In Colab\"/></a>"
      ]
    },
    {
      "cell_type": "markdown",
      "metadata": {
        "id": "CkKcmhPD61DR",
        "colab_type": "text"
      },
      "source": [
        "# Importing the libraries"
      ]
    },
    {
      "cell_type": "code",
      "metadata": {
        "id": "-z6MhV7h46UE",
        "colab_type": "code",
        "colab": {}
      },
      "source": [
        "import pandas as pd \n",
        "import matplotlib.pyplot as plt \n",
        "from sklearn.model_selection import train_test_split\n",
        "from sklearn.linear_model import LogisticRegression\n",
        "from sklearn.preprocessing import LabelEncoder\n",
        "from sklearn import metrics\n",
        "import seaborn as sns\n",
        "import numpy as np\n",
        "import math"
      ],
      "execution_count": 0,
      "outputs": []
    },
    {
      "cell_type": "markdown",
      "metadata": {
        "id": "dk_H55GD68kg",
        "colab_type": "text"
      },
      "source": [
        "# Data Preprocessing"
      ]
    },
    {
      "cell_type": "code",
      "metadata": {
        "id": "b_mXJUrp46UK",
        "colab_type": "code",
        "outputId": "c8706949-5b44-4f8b-d5c0-d000ab0f961c",
        "colab": {
          "base_uri": "https://localhost:8080/",
          "height": 255
        }
      },
      "source": [
        "columns = ['NumPreg','PlasmaGlucose','DiastolicBP','TricepSkin','BodyMassIndex','Pedigree','Age','Diabetic']\n",
        "\n",
        "diabetes_data = pd.read_csv(\"data.csv\", header=0, names=columns)\n",
        "print(len(diabetes_data))\n",
        "print(diabetes_data.describe())\n",
        "print(len(diabetes_data[diabetes_data['Diabetic']=='Yes']))\n",
        "print(len(diabetes_data[diabetes_data['Diabetic']=='No']))\n"
      ],
      "execution_count": 13,
      "outputs": [
        {
          "output_type": "stream",
          "text": [
            "200\n",
            "          NumPreg  PlasmaGlucose  ...    Pedigree         Age\n",
            "count  200.000000     200.000000  ...  200.000000  200.000000\n",
            "mean     3.570000     123.970000  ...    0.460765   32.110000\n",
            "std      3.366268      31.667225  ...    0.307225   10.975436\n",
            "min      0.000000      56.000000  ...    0.085000   21.000000\n",
            "25%      1.000000     100.000000  ...    0.253500   23.000000\n",
            "50%      2.000000     120.500000  ...    0.372500   28.000000\n",
            "75%      6.000000     144.000000  ...    0.616000   39.250000\n",
            "max     14.000000     199.000000  ...    2.288000   63.000000\n",
            "\n",
            "[8 rows x 7 columns]\n",
            "68\n",
            "132\n"
          ],
          "name": "stdout"
        }
      ]
    },
    {
      "cell_type": "code",
      "metadata": {
        "id": "x-CX6Jvm46UP",
        "colab_type": "code",
        "outputId": "32cf0300-ddb5-49ec-8018-05915102f21e",
        "colab": {
          "base_uri": "https://localhost:8080/",
          "height": 153
        }
      },
      "source": [
        "print(diabetes_data.head(5))\n",
        "diabetes_data['Diabetic'] = diabetes_data['Diabetic'].str.lower()"
      ],
      "execution_count": 15,
      "outputs": [
        {
          "output_type": "stream",
          "text": [
            "   NumPreg  PlasmaGlucose  DiastolicBP  ...  Pedigree  Age  Diabetic\n",
            "0        5             86           68  ...     0.364   24        no\n",
            "1        7            195           70  ...     0.163   55       yes\n",
            "2        5             77           82  ...     0.156   35        no\n",
            "3        0            165           76  ...     0.259   26        no\n",
            "4        0            107           60  ...     0.133   23        no\n",
            "\n",
            "[5 rows x 8 columns]\n"
          ],
          "name": "stdout"
        }
      ]
    },
    {
      "cell_type": "markdown",
      "metadata": {
        "id": "9MU3FiWg7CbD",
        "colab_type": "text"
      },
      "source": [
        "# Label Analysis"
      ]
    },
    {
      "cell_type": "code",
      "metadata": {
        "id": "aiRgU5ML46UU",
        "colab_type": "code",
        "outputId": "43785257-f3b5-4292-90df-9c5f22905090",
        "colab": {
          "base_uri": "https://localhost:8080/",
          "height": 255
        }
      },
      "source": [
        "import matplotlib.pyplot as plt\n",
        "\n",
        "# Data to plot\n",
        "labels = 'Diabetic', 'Non-Diabetic'\n",
        "sizes = [68, 132]\n",
        "colors = ['gold','lightskyblue']\n",
        "explode = (0.1, 0)  # explode 1st slice\n",
        "\n",
        "# Plot\n",
        "plt.pie(sizes, explode=explode, labels=labels, colors=colors,\n",
        "autopct='%1.1f%%', shadow=True, startangle=140)\n",
        "\n",
        "plt.axis('equal')\n",
        "plt.show()"
      ],
      "execution_count": 16,
      "outputs": [
        {
          "output_type": "display_data",
          "data": {
            "image/png": "[encoded data removed]",
            "text/plain": [
              "<Figure size 432x288 with 1 Axes>"
            ]
          },
          "metadata": {
            "tags": []
          }
        }
      ]
    },
    {
      "cell_type": "markdown",
      "metadata": {
        "id": "as7-3Mmm46UY",
        "colab_type": "text"
      },
      "source": [
        "# Let’s start by finding correlation of every pair of features (and the outcome variable), and visualize the correlations using a heatmap."
      ]
    },
    {
      "cell_type": "code",
      "metadata": {
        "id": "IuZYMm9x46Ua",
        "colab_type": "code",
        "outputId": "3c11cd9f-8101-4460-e68d-4f8c499e522e",
        "colab": {
          "base_uri": "https://localhost:8080/",
          "height": 524
        }
      },
      "source": [
        "corr = diabetes_data.corr()\n",
        "print(corr)\n",
        "sns.heatmap(corr, \n",
        "         xticklabels=corr.columns, \n",
        "         yticklabels=corr.columns)"
      ],
      "execution_count": 17,
      "outputs": [
        {
          "output_type": "stream",
          "text": [
            "                NumPreg  PlasmaGlucose  ...  Pedigree       Age\n",
            "NumPreg        1.000000       0.170525  ... -0.119473  0.598922\n",
            "PlasmaGlucose  0.170525       1.000000  ...  0.060710  0.343407\n",
            "DiastolicBP    0.252061       0.269381  ... -0.047400  0.391073\n",
            "TricepSkin     0.109049       0.217597  ...  0.095403  0.251926\n",
            "BodyMassIndex  0.058336       0.216790  ...  0.190551  0.131920\n",
            "Pedigree      -0.119473       0.060710  ...  1.000000 -0.071410\n",
            "Age            0.598922       0.343407  ... -0.071410  1.000000\n",
            "\n",
            "[7 rows x 7 columns]\n"
          ],
          "name": "stdout"
        },
        {
          "output_type": "execute_result",
          "data": {
            "text/plain": [
              "<matplotlib.axes._subplots.AxesSubplot at 0x7f3f03cf3780>"
            ]
          },
          "metadata": {
            "tags": []
          },
          "execution_count": 17
        },
        {
          "output_type": "display_data",
          "data": {
            "image/png": "[encoded data removed]",
            "text/plain": [
              "<Figure size 432x288 with 2 Axes>"
            ]
          },
          "metadata": {
            "tags": []
          }
        }
      ]
    },
    {
      "cell_type": "markdown",
      "metadata": {
        "id": "esBpcSVU46Ue",
        "colab_type": "text"
      },
      "source": [
        "# Dataset Preparation (splitting and normalization)"
      ]
    },
    {
      "cell_type": "code",
      "metadata": {
        "id": "Zm48tKR446Uf",
        "colab_type": "code",
        "colab": {}
      },
      "source": [
        "for column in diabetes_data.columns:\n",
        "    if diabetes_data[column].dtype == type(object):\n",
        "        le = LabelEncoder()\n",
        "        diabetes_data[column] = le.fit_transform(diabetes_data[column])"
      ],
      "execution_count": 0,
      "outputs": []
    },
    {
      "cell_type": "code",
      "metadata": {
        "id": "rPH606UY46Uj",
        "colab_type": "code",
        "colab": {}
      },
      "source": [
        "# print(len(diabetes_data[diabetes_data['Diabetic']=='Yes']))\n",
        "# print(len(diabetes_data[diabetes_data['Diabetic']=='No']))"
      ],
      "execution_count": 0,
      "outputs": []
    },
    {
      "cell_type": "code",
      "metadata": {
        "id": "c1fki68b46Um",
        "colab_type": "code",
        "colab": {}
      },
      "source": [
        "feature_columns = ['NumPreg','PlasmaGlucose','DiastolicBP','TricepSkin','BodyMassIndex','Pedigree','Age']\n",
        "# diabetes_data[feature_columns] = diabetes_data[feature_columns].apply(lambda x: (x-x.min())/(x.ma)-x.min()))\n",
        "diabetes_data[feature_columns] = (diabetes_data[feature_columns] - diabetes_data[feature_columns].mean())/diabetes_data[feature_columns].std()"
      ],
      "execution_count": 0,
      "outputs": []
    },
    {
      "cell_type": "code",
      "metadata": {
        "id": "ktOZRokr46Uq",
        "colab_type": "code",
        "outputId": "6686f76c-8af8-4d90-962f-ac9811bfedf6",
        "colab": {
          "base_uri": "https://localhost:8080/",
          "height": 153
        }
      },
      "source": [
        "#After Normalization the data\n",
        "print(diabetes_data.head(5))"
      ],
      "execution_count": 23,
      "outputs": [
        {
          "output_type": "stream",
          "text": [
            "    NumPreg  PlasmaGlucose  DiastolicBP  ...  Pedigree       Age  Diabetic\n",
            "0  0.424803      -1.199031    -0.283982  ... -0.314965 -0.738923         0\n",
            "1  1.018933       2.243013    -0.109760  ... -0.969209  2.085566         1\n",
            "2  0.424803      -1.483237     0.935572  ... -0.991993  0.263315         0\n",
            "3 -1.060522       1.295661     0.412906  ... -0.656734 -0.556698         0\n",
            "4 -1.060522      -0.535885    -0.980870  ... -1.066857 -0.830035         0\n",
            "\n",
            "[5 rows x 8 columns]\n"
          ],
          "name": "stdout"
        }
      ]
    },
    {
      "cell_type": "markdown",
      "metadata": {
        "id": "AwmMu60fSN-v",
        "colab_type": "text"
      },
      "source": [
        "# 1.Develop the best model to predict the categorical response variable \"Diabetic\" in case of the given dataset? Justify your choice for best model."
      ]
    },
    {
      "cell_type": "markdown",
      "metadata": {
        "id": "xaIMizPD46Uu",
        "colab_type": "text"
      },
      "source": [
        "## Training and Evaluating Logistic Regression Model"
      ]
    },
    {
      "cell_type": "code",
      "metadata": {
        "id": "k8uAd9dK46Uw",
        "colab_type": "code",
        "outputId": "e9c9a548-8112-4964-b31e-917b42885312",
        "colab": {
          "base_uri": "https://localhost:8080/",
          "height": 173
        }
      },
      "source": [
        "X = diabetes_data[feature_columns]\n",
        "Y = diabetes_data['Diabetic']\n",
        "\n",
        "X_train, X_test, Y_train, Y_test = train_test_split(X,Y,test_size = 0.31, random_state = 0)\n",
        "\n",
        "log_regress = LogisticRegression()\n",
        "log_regress.fit(X_train, Y_train)\n",
        "\n",
        "Y_pred = log_regress.predict(X_test)\n",
        "\n",
        "print(\"Accuracy: \",metrics.accuracy_score(Y_test, Y_pred))\n",
        "print(\"Recall: \",metrics.recall_score(Y_test, Y_pred))\n",
        "print(\"Precision: \",metrics.precision_score(Y_test, Y_pred))\n",
        "print(\"Confusion-Matrix: \\n\",metrics.confusion_matrix(Y_test, Y_pred))\n"
      ],
      "execution_count": 24,
      "outputs": [
        {
          "output_type": "stream",
          "text": [
            "Accuracy:  0.7580645161290323\n",
            "Recall:  0.5217391304347826\n",
            "Precision:  0.75\n",
            "Confusion-Matrix: \n",
            " [[35  4]\n",
            " [11 12]]\n"
          ],
          "name": "stdout"
        },
        {
          "output_type": "stream",
          "text": [
            "/usr/local/lib/python3.6/dist-packages/sklearn/linear_model/logistic.py:432: FutureWarning: Default solver will be changed to 'lbfgs' in 0.22. Specify a solver to silence this warning.\n",
            "  FutureWarning)\n"
          ],
          "name": "stderr"
        }
      ]
    },
    {
      "cell_type": "code",
      "metadata": {
        "id": "-CNv8oyV46U2",
        "colab_type": "code",
        "outputId": "a4050066-f778-457a-c3f9-ef9a96394fe5",
        "colab": {
          "base_uri": "https://localhost:8080/",
          "height": 170
        }
      },
      "source": [
        "print(metrics.classification_report(Y_test, Y_pred, target_names=['Non-Diabetic','Diabetic']))"
      ],
      "execution_count": 25,
      "outputs": [
        {
          "output_type": "stream",
          "text": [
            "              precision    recall  f1-score   support\n",
            "\n",
            "Non-Diabetic       0.76      0.90      0.82        39\n",
            "    Diabetic       0.75      0.52      0.62        23\n",
            "\n",
            "    accuracy                           0.76        62\n",
            "   macro avg       0.76      0.71      0.72        62\n",
            "weighted avg       0.76      0.76      0.75        62\n",
            "\n"
          ],
          "name": "stdout"
        }
      ]
    },
    {
      "cell_type": "markdown",
      "metadata": {
        "id": "UZvkE2Qs46U6",
        "colab_type": "text"
      },
      "source": [
        "## Interpreting the LR Model"
      ]
    },
    {
      "cell_type": "code",
      "metadata": {
        "id": "-3JornD046U7",
        "colab_type": "code",
        "outputId": "5af65c4e-0941-42b5-a68e-60d6e20f7ec9",
        "colab": {
          "base_uri": "https://localhost:8080/",
          "height": 443
        }
      },
      "source": [
        "coeff = list(log_regress.coef_[0])\n",
        "print(log_regress.coef_[0])\n",
        "labels = list(X.columns)\n",
        "\n",
        "features = pd.DataFrame()\n",
        "features['Features'] = labels\n",
        "features['importance'] = coeff\n",
        "features.sort_values(by=['importance'], ascending=True, inplace=True)\n",
        "features['positive'] = features['importance'] > 0\n",
        "features.set_index('Features', inplace=True)\n",
        "features.importance.plot(kind='barh', figsize=(11, 6),color = features.positive.map({True: 'blue', False: 'red'}))\n",
        "plt.xlabel('Importance')"
      ],
      "execution_count": 26,
      "outputs": [
        {
          "output_type": "stream",
          "text": [
            "[ 0.57948419  1.16920735 -0.10024967 -0.09058184  0.57592427  0.527143\n",
            "  0.08951769]\n"
          ],
          "name": "stdout"
        },
        {
          "output_type": "execute_result",
          "data": {
            "text/plain": [
              "Text(0.5, 0, 'Importance')"
            ]
          },
          "metadata": {
            "tags": []
          },
          "execution_count": 26
        },
        {
          "output_type": "display_data",
          "data": {
            "image/png": "[encoded data removed]",
            "text/plain": [
              "<Figure size 792x432 with 1 Axes>"
            ]
          },
          "metadata": {
            "tags": []
          }
        }
      ]
    },
    {
      "cell_type": "markdown",
      "metadata": {
        "id": "dF33lwZ_SbYa",
        "colab_type": "text"
      },
      "source": [
        "# 2.Suppose you have chosen a threshold t to classify P(Diabetic | X) > t as \"Diabetic\" = Yes. How would you choose the optimal threshold t such that the aforesaid classification achieves maximum accuracy for your best model? Justify your choice."
      ]
    },
    {
      "cell_type": "code",
      "metadata": {
        "id": "6-6s7Wh146VA",
        "colab_type": "code",
        "colab": {}
      },
      "source": [
        "def sigmoid(x):\n",
        "  return 1 / (1 + math.exp(-x))\n",
        "\n",
        "X_test_arr = X_test.values.tolist()\n",
        "coeff = list(log_regress.coef_[0])\n",
        "bias = log_regress.intercept_[0]\n",
        "output_Y = [bias+np.dot(data, coeff) for data in X_test_arr]\n",
        "prob = [sigmoid(x) for x in output_Y]\n",
        "# df = pd.DataFrame({'prob': prob})"
      ],
      "execution_count": 0,
      "outputs": []
    },
    {
      "cell_type": "code",
      "metadata": {
        "id": "Ec4YMCR3WIAB",
        "colab_type": "code",
        "colab": {}
      },
      "source": [
        "def Threshold(t):\n",
        "    thr = [0.01*i for i in range(0,t+1)]\n",
        "    accuracy_thr = []\n",
        "    for t in thr:\n",
        "        Y_pred = [x>t for x in prob]\n",
        "        accuracy_thr.append(metrics.accuracy_score(Y_test, Y_pred))\n",
        "    # print(accuracy_thr)\n",
        "    return accuracy_thr,thr\n",
        "    \n",
        "accuracy_thr,thr = Threshold(100)    "
      ],
      "execution_count": 0,
      "outputs": []
    },
    {
      "cell_type": "code",
      "metadata": {
        "id": "NsQdUBYIMoeH",
        "colab_type": "code",
        "outputId": "8ceb789c-19e0-4469-8264-68667bf10c59",
        "colab": {
          "base_uri": "https://localhost:8080/",
          "height": 621
        }
      },
      "source": [
        "fig = plt.figure(figsize=(10,10))\n",
        "ax = fig.add_subplot(111)\n",
        "\n",
        "sns.set_style(\"darkgrid\")\n",
        "line, = ax.plot(thr,accuracy_thr, color='g')\n",
        "\n",
        "ymax = max(accuracy_thr)\n",
        "xpos = accuracy_thr.index(ymax)\n",
        "xmax = thr[xpos]\n",
        "\n",
        "ax.annotate('optimal threshold t = {0}\\nMaximum Accuracy = {1}'.format(xmax,round(ymax,2)), xy=(xmax, ymax), xytext=(xmax, ymax-0.10),\n",
        "            arrowprops=dict(facecolor='black', shrink=0.05),\n",
        "            )\n",
        "plt.title(\"Threshold Vs Accuracy Plot\")\n",
        "plt.xlabel(\"Threshold - t\")\n",
        "plt.ylabel(\"Accuracy of Logistic Model\");\n",
        "\n",
        "plt.show()"
      ],
      "execution_count": 29,
      "outputs": [
        {
          "output_type": "display_data",
          "data": {
            "image/png": "[encoded data removed]",
            "text/plain": [
              "<Figure size 720x720 with 1 Axes>"
            ]
          },
          "metadata": {
            "tags": []
          }
        }
      ]
    },
    {
      "cell_type": "code",
      "metadata": {
        "id": "k0zZzRHWXTME",
        "colab_type": "code",
        "colab": {}
      },
      "source": [
        ""
      ],
      "execution_count": 0,
      "outputs": []
    }
  ]
}